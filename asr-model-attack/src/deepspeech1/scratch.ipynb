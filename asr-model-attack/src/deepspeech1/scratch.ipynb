{
 "cells": [
  {
   "cell_type": "code",
   "execution_count": 1,
   "metadata": {},
   "outputs": [],
   "source": [
    "import torch\n",
    "import torchaudio\n",
    "from IPython.display import Audio\n",
    "from torch.utils.data import DataLoader\n",
    "import os\n",
    "import pandas as pd\n",
    "import torchaudio\n",
    "from torch.utils.data import Dataset\n",
    "import torch\n",
    "import torch.nn as nn\n",
    "import torch.nn.functional as F\n",
    "import pytorch_lightning as pl\n",
    "import torch\n",
    "import torch.nn as nn\n",
    "import torch.nn.functional as F\n",
    "import matplotlib.pyplot as plt\n",
    "from torch.utils.data import DataLoader\n",
    "from pytorch_lightning import LightningModule\n",
    "\n",
    "from torch.nn.utils.rnn import pad_sequence\n",
    "from pytorch_lightning.callbacks import ModelCheckpoint\n",
    "from torch.utils.tensorboard import SummaryWriter\n",
    "\n",
    "\n",
    "#\n",
    "\n",
    "\n",
    "# %%\n",
    "class CustomAudioDataset(Dataset):\n",
    "    def __init__(self, tsv_path, clips_dir, config):\n",
    "        self.data = pd.read_csv(tsv_path, sep='\\t')\n",
    "        self.clips_dir = clips_dir\n",
    "        self.config = config  # Configurations for MFCC transformation\n",
    "        self.char_to_num = config['char_to_num']  # Character to number mapping\n",
    "\n",
    "    def __len__(self):\n",
    "        return len(self.data)\n",
    "\n",
    "    def __getitem__(self, idx):\n",
    "        filename = self.data.iloc[idx]['path'] + '.mp3'\n",
    "        label_str = self.data.iloc[idx]['sentence']\n",
    "\n",
    "        # Convert label string to numbers using char_to_num mapping\n",
    "        label_nums = torch.tensor([self.char_to_num[c] for c in label_str if c in self.char_to_num])\n",
    "\n",
    "        audio_file = os.path.join(self.clips_dir, filename)\n",
    "        waveform, sample_rate = torchaudio.load(audio_file)\n",
    "\n",
    "        # Perform MFCC transformation\n",
    "        mfcc_transform = torchaudio.transforms.MFCC(\n",
    "            sample_rate=sample_rate, n_mfcc=self.config['mfcc_bins'],\n",
    "            melkwargs={\"n_fft\": int(sample_rate * self.config['win_length_ms'] // 1000),\n",
    "                       \"hop_length\": int(sample_rate * self.config['step_length_ms'] // 1000),\n",
    "                       \"n_mels\": config['mfcc_bins']}\n",
    "        )\n",
    "        mfcc_features = mfcc_transform(waveform).squeeze().T  # [t x f]\n",
    "        seq_length = mfcc_features.size(0)  # Number of MFCC time steps\n",
    "        target_length = len(label_nums)  # Length of label_nums\n",
    "\n",
    "\n",
    "        #return mfcc_features, label_nums, os.path.join(self.clips_dir, filename), label_str\n",
    "        return mfcc_features, label_nums, seq_length, target_length, os.path.join(self.clips_dir, filename), waveform, label_str\n"
   ]
  },
  {
   "cell_type": "code",
   "execution_count": 2,
   "metadata": {},
   "outputs": [],
   "source": [
    "config = {\n",
    "    'sampling_rate': 16000,\n",
    "    'win_length_ms': 32,\n",
    "    'step_length_ms': 20,\n",
    "    'mfcc_bins': 26,\n",
    "    'batch_size': 32\n",
    "}\n",
    "\n",
    "# Define the character-to-number mapping with space as 0 and ' as the last number\n",
    "char_to_num = {\n",
    "    ' ': 0, 'a': 1, 'b': 2, 'c': 3, 'd': 4, 'e': 5, 'f': 6, 'g': 7, 'h': 8, 'i': 9,\n",
    "    'j': 10, 'k': 11, 'l': 12, 'm': 13, 'n': 14, 'o': 15, 'p': 16, 'q': 17, 'r': 18,\n",
    "    's': 19, 't': 20, 'u': 21, 'v': 22, 'w': 23, 'x': 24, 'y': 25, 'z': 26, \"'\": 27\n",
    "}\n",
    "num_to_char = {v: k for k, v in char_to_num.items()}\n",
    "\n",
    "config['char_to_num'] = char_to_num\n",
    "config['num_to_char'] = num_to_char\n",
    "\n",
    "#network config\n",
    "# Update the existing config dictionary with the specified values\n",
    "config.update({\n",
    "    'n_hidden_1': 2048,\n",
    "    'n_hidden_2': 2048,\n",
    "    'n_hidden_3': 2048,\n",
    "    'n_hidden_5': 2048,\n",
    "    'n_hidden_6': len(char_to_num)+1,\n",
    "    'n_cell_dim': 2048,\n",
    "    'dropout': [0.0] * 6,  # Assuming 6 dropout rates are needed\n",
    "    'overlap': True,\n",
    "    'layer_norm': False,\n",
    "    'n_input': 26,\n",
    "    'n_context': 9\n",
    "})\n",
    "\n",
    "# training config\n",
    "config.update({\n",
    "    'gpus': 4,\n",
    "    'learning_rate':0.1,\n",
    "    'cpus':16,\n",
    "    'max_epoch': 100,\n",
    "    'half_precision': False,  # Enable half precision\n",
    "\n",
    "})\n",
    "\n",
    "tsv_path = '/scratch/f006pq6/datasets/commonvoice_v2/train.tsv'\n",
    "clips_dir = '/scratch/f006pq6/datasets/commonvoice_v2/clips'\n",
    "dataset = CustomAudioDataset(tsv_path, clips_dir, config)\n",
    "\n"
   ]
  },
  {
   "cell_type": "code",
   "execution_count": 7,
   "metadata": {},
   "outputs": [
    {
     "name": "stdout",
     "output_type": "stream",
     "text": [
      "1.13.0+cu117\n",
      "0.13.0+cu117\n"
     ]
    }
   ],
   "source": [
    "\n",
    "import torch\n",
    "import torchaudio\n",
    "import torchaudio.functional as F\n",
    "import torchaudio.transforms as T\n",
    "\n",
    "print(torch.__version__)\n",
    "print(torchaudio.__version__)\n",
    "\n",
    "import librosa\n",
    "import matplotlib.pyplot as plt\n",
    "\n",
    "n_fft = 512\n",
    "win_length = 512\n",
    "hop_length = 320\n",
    "n_mfcc = 256\n",
    "\n",
    "mfcc_transform = T.MFCC(\n",
    "    sample_rate=16000,\n",
    "    n_mfcc=26,\n",
    "    melkwargs={\n",
    "        \"n_fft\": n_fft,\n",
    "        \"n_mels\": 40,\n",
    "        \"hop_length\": 320,\n",
    "    },\n",
    ")\n",
    "\n",
    "mfcc = mfcc_transform(dataset[4][-2])"
   ]
  },
  {
   "cell_type": "code",
   "execution_count": 8,
   "metadata": {},
   "outputs": [],
   "source": [
    "def plot_spectrogram(specgram, title=None, ylabel=\"freq_bin\", ax=None):\n",
    "    if ax is None:\n",
    "        _, ax = plt.subplots(1, 1)\n",
    "    if title is not None:\n",
    "        ax.set_title(title)\n",
    "    ax.set_ylabel(ylabel)\n",
    "    ax.imshow(librosa.power_to_db(specgram), origin=\"lower\", aspect=\"auto\", interpolation=\"nearest\")"
   ]
  },
  {
   "cell_type": "code",
   "execution_count": 9,
   "metadata": {},
   "outputs": [],
   "source": [
    "sample_rate = 16000\n",
    "mfcc_transform = torchaudio.transforms.MFCC(\n",
    "            sample_rate=sample_rate, n_mfcc=config['mfcc_bins'],\n",
    "            melkwargs={\"n_fft\": int(sample_rate * config['win_length_ms'] // 1000),\n",
    "                       \"hop_length\": int(sample_rate * config['step_length_ms'] // 1000),\n",
    "                       \"n_mels\": config['mfcc_bins']}\n",
    "        )\n",
    "mfcc_features = mfcc_transform(dataset[4][-2]).squeeze().T  # [t x f]"
   ]
  },
  {
   "cell_type": "code",
   "execution_count": 10,
   "metadata": {},
   "outputs": [
    {
     "data": {
      "image/png": "[encoded data removed]",
      "text/plain": [
       "<Figure size 640x480 with 1 Axes>"
      ]
     },
     "metadata": {},
     "output_type": "display_data"
    }
   ],
   "source": [
    "\n",
    "plot_spectrogram(dataset[4][0].T)"
   ]
  }
 ],
 "metadata": {
  "kernelspec": {
   "display_name": "asr_reveal",
   "language": "python",
   "name": "python3"
  },
  "language_info": {
   "codemirror_mode": {
    "name": "ipython",
    "version": 3
   },
   "file_extension": ".py",
   "mimetype": "text/x-python",
   "name": "python",
   "nbconvert_exporter": "python",
   "pygments_lexer": "ipython3",
   "version": "3.9.18"
  }
 },
 "nbformat": 4,
 "nbformat_minor": 2
}
