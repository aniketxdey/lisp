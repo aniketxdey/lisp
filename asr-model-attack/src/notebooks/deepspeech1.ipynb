{
 "cells": [
  {
   "cell_type": "code",
   "execution_count": 1,
   "metadata": {},
   "outputs": [],
   "source": [
    "import torch\n",
    "import torch.nn as nn\n"
   ]
  },
  {
   "cell_type": "code",
   "execution_count": 1,
   "metadata": {},
   "outputs": [
    {
     "ename": "NameError",
     "evalue": "name 'nn' is not defined",
     "output_type": "error",
     "traceback": [
      "\u001b[0;31m---------------------------------------------------------------------------\u001b[0m",
      "\u001b[0;31mNameError\u001b[0m                                 Traceback (most recent call last)",
      "\u001b[1;32m/scratch/f006pq6/projects/deep-speech-reveal-hessian/src/asr/deepspeech1.ipynb Cell 2\u001b[0m line \u001b[0;36m1\n\u001b[0;32m----> <a href='vscode-notebook-cell://ssh-remote%2Blisplab1.thayer/scratch/f006pq6/projects/deep-speech-reveal-hessian/src/asr/deepspeech1.ipynb#W1sdnNjb2RlLXJlbW90ZQ%3D%3D?line=0'>1</a>\u001b[0m \u001b[39mclass\u001b[39;00m \u001b[39mModel\u001b[39;00m(nn\u001b[39m.\u001b[39mModule):\n\u001b[1;32m      <a href='vscode-notebook-cell://ssh-remote%2Blisplab1.thayer/scratch/f006pq6/projects/deep-speech-reveal-hessian/src/asr/deepspeech1.ipynb#W1sdnNjb2RlLXJlbW90ZQ%3D%3D?line=1'>2</a>\u001b[0m     \u001b[39mdef\u001b[39;00m \u001b[39m__init__\u001b[39m(\u001b[39mself\u001b[39m, n_input, n_context, n_hidden_1, n_hidden_2, n_hidden_3, n_cell_dim, n_hidden_5, n_hidden_6, n_classes, dropout_rate, layer_norm):\n\u001b[1;32m      <a href='vscode-notebook-cell://ssh-remote%2Blisplab1.thayer/scratch/f006pq6/projects/deep-speech-reveal-hessian/src/asr/deepspeech1.ipynb#W1sdnNjb2RlLXJlbW90ZQ%3D%3D?line=2'>3</a>\u001b[0m         \u001b[39msuper\u001b[39m(Model, \u001b[39mself\u001b[39m)\u001b[39m.\u001b[39m\u001b[39m__init__\u001b[39m()\n",
      "\u001b[0;31mNameError\u001b[0m: name 'nn' is not defined"
     ]
    }
   ],
   "source": [
    "\n",
    "class Model(nn.Module):\n",
    "    def __init__(self, n_input, n_context, n_hidden_1, n_hidden_2, n_hidden_3, n_cell_dim, n_hidden_5, n_hidden_6, n_classes, dropout_rate, layer_norm):\n",
    "        super(Model, self).__init__()\n",
    "        self.n_input = n_input\n",
    "        self.n_context = n_context\n",
    "        self.n_hidden_1 = n_hidden_1\n",
    "        self.n_hidden_2 = n_hidden_2\n",
    "        self.n_hidden_3 = n_hidden_3\n",
    "        self.n_cell_dim = n_cell_dim\n",
    "        self.n_hidden_5 = n_hidden_5\n",
    "        self.n_hidden_6 = n_hidden_6\n",
    "        self.n_classes = n_classes\n",
    "        self.dropout_rate = dropout_rate\n",
    "        self.layer_norm = layer_norm\n",
    "        \n",
    "        # Define layers\n",
    "        self.layer_1 = nn.Linear(n_input + 2 * n_input * n_context, n_hidden_1)\n",
    "        self.layer_2 = nn.Linear(n_hidden_1, n_hidden_2)\n",
    "        self.layer_3 = nn.Linear(n_hidden_2, n_hidden_3)\n",
    "        self.rnn = nn.LSTM(n_hidden_3, n_cell_dim, batch_first=True)\n",
    "        self.layer_5 = nn.Linear(n_cell_dim, n_hidden_5)\n",
    "        self.layer_6 = nn.Linear(n_hidden_5, n_hidden_6)\n",
    "        \n",
    "    def forward(self, batch_x):\n",
    "        batch_size = batch_x.size(0)\n",
    "        \n",
    "        # Reshape input\n",
    "        batch_x = batch_x.permute(1, 0, 2, 3).contiguous()\n",
    "        batch_x = batch_x.view(-1, self.n_input + 2 * self.n_input * self.n_context)\n",
    "        \n",
    "        # Hidden layers\n",
    "        layer_1 = nn.functional.relu(self.layer_1(batch_x))\n",
    "        layer_2 = nn.functional.relu(self.layer_2(layer_1))\n",
    "        layer_3 = nn.functional.relu(self.layer_3(layer_2))\n",
    "        \n",
    "        # Reshape for RNN\n",
    "        layer_3 = layer_3.view(-1, batch_size, self.n_hidden_3)\n",
    "        \n",
    "        # RNN layer\n",
    "        output, (h_n, c_n) = self.rnn(layer_3)\n",
    "        \n",
    "        # Reshape output\n",
    "        output = output.view(-1, self.n_cell_dim)\n",
    "        \n",
    "        # Hidden layer 5\n",
    "        layer_5 = nn.functional.relu(self.layer_5(output))\n",
    "        \n",
    "        # Output layer\n",
    "        raw_logits = self.layer_6(layer_5)\n",
    "        \n",
    "        # Reshape output\n",
    "        raw_logits = raw_logits.view(-1, batch_size, self.n_hidden_6)\n",
    "        \n",
    "        return raw_logits"
   ]
  }
 ],
 "metadata": {
  "kernelspec": {
   "display_name": "asr_reveal",
   "language": "python",
   "name": "python3"
  },
  "language_info": {
   "codemirror_mode": {
    "name": "ipython",
    "version": 3
   },
   "file_extension": ".py",
   "mimetype": "text/x-python",
   "name": "python",
   "nbconvert_exporter": "python",
   "pygments_lexer": "ipython3",
   "version": "3.9.18"
  }
 },
 "nbformat": 4,
 "nbformat_minor": 2
}
